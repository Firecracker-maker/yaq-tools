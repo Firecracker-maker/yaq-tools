{
 "cells": [
  {
   "cell_type": "code",
   "execution_count": 202,
   "id": "02a43b2d-ed52-4ebf-852e-2e21027c6e9d",
   "metadata": {},
   "outputs": [],
   "source": [
    "import pandas as pd\n",
    "from datetime import datetime\n",
    "import pytz\n",
    "\n",
    "import yfinance as yf\n",
    "\n",
    "from deltalake.writer import write_deltalake\n",
    "from deltalake import DeltaTable"
   ]
  },
  {
   "cell_type": "markdown",
   "id": "665cf83b-9ee4-49c5-91f9-ce6195769a37",
   "metadata": {},
   "source": [
    "# Introduction\n",
    "In my daily work, I frequently use Pandas. To better understand timezone-naive and timezone-aware concepts, I’ll focus on the following three tools:\n",
    "\n",
    "- datetime.datetime: Part of Python's built-in datetime module, capable of handling up to microseconds.\n",
    "- pd.Timestamp: Ideal for working with pandas DataFrames and time-series data.\n",
    "- pd.to_datetime: Useful for converting date columns from files or databases into pandas-compatible datetime objects."
   ]
  },
  {
   "cell_type": "markdown",
   "id": "3c70e453-2a4d-4cb5-a524-df642908e20a",
   "metadata": {},
   "source": [
    "# Let's get started with the basics\n",
    "## Naive Time"
   ]
  },
  {
   "cell_type": "code",
   "execution_count": 122,
   "id": "81f03012-a319-46a2-bc72-6142e9dc1992",
   "metadata": {},
   "outputs": [
    {
     "data": {
      "text/plain": [
       "datetime.datetime(2025, 1, 22, 23, 35, 25, 699761)"
      ]
     },
     "execution_count": 122,
     "metadata": {},
     "output_type": "execute_result"
    }
   ],
   "source": [
    "dt = datetime.now()\n",
    "dt"
   ]
  },
  {
   "cell_type": "code",
   "execution_count": 124,
   "id": "5f43cb34-bbd3-4566-8dad-d4578f55895a",
   "metadata": {},
   "outputs": [
    {
     "data": {
      "text/plain": [
       "'2025-01-22T23:35:25.699761'"
      ]
     },
     "execution_count": 124,
     "metadata": {},
     "output_type": "execute_result"
    }
   ],
   "source": [
    "dt.isoformat()"
   ]
  },
  {
   "cell_type": "code",
   "execution_count": 126,
   "id": "9be81412-45a3-4f43-be28-ac337ef60d85",
   "metadata": {},
   "outputs": [
    {
     "data": {
      "text/plain": [
       "Timestamp('2025-01-22 23:35:25.699761')"
      ]
     },
     "execution_count": 126,
     "metadata": {},
     "output_type": "execute_result"
    }
   ],
   "source": [
    "pd_dt = pd.Timestamp(dt)\n",
    "pd_dt"
   ]
  },
  {
   "cell_type": "code",
   "execution_count": 128,
   "id": "43e1a9cb-8d9d-4312-a183-33782a1f01b6",
   "metadata": {},
   "outputs": [
    {
     "data": {
      "text/plain": [
       "Timestamp('2025-01-22 23:35:25.699761')"
      ]
     },
     "execution_count": 128,
     "metadata": {},
     "output_type": "execute_result"
    }
   ],
   "source": [
    "pd_dt = pd.to_datetime(dt)\n",
    "pd_dt"
   ]
  },
  {
   "cell_type": "markdown",
   "id": "815779ad-752b-41bc-a5c7-9cff431eaf95",
   "metadata": {},
   "source": [
    "## Aware Time"
   ]
  },
  {
   "cell_type": "code",
   "execution_count": 112,
   "id": "7ccbcdff-9467-4b78-895b-20326040cf8b",
   "metadata": {},
   "outputs": [
    {
     "data": {
      "text/plain": [
       "datetime.datetime(2025, 1, 22, 23, 34, 18, 759984, tzinfo=<UTC>)"
      ]
     },
     "execution_count": 112,
     "metadata": {},
     "output_type": "execute_result"
    }
   ],
   "source": [
    "# Current time, timezone aware\n",
    "dt = datetime.now(pytz.utc)\n",
    "dt"
   ]
  },
  {
   "cell_type": "code",
   "execution_count": 114,
   "id": "85542a44-3a0f-4c4e-a8fa-b0cf89df372d",
   "metadata": {},
   "outputs": [
    {
     "data": {
      "text/plain": [
       "'2025-01-22T23:34:18.759984+00:00'"
      ]
     },
     "execution_count": 114,
     "metadata": {},
     "output_type": "execute_result"
    }
   ],
   "source": [
    "dt.isoformat()"
   ]
  },
  {
   "cell_type": "code",
   "execution_count": 82,
   "id": "9892f4dc-dced-4dfd-a4a4-ef7273453b2e",
   "metadata": {},
   "outputs": [
    {
     "data": {
      "text/plain": [
       "Timestamp('2025-01-22 23:30:03.029561+0000', tz='UTC')"
      ]
     },
     "execution_count": 82,
     "metadata": {},
     "output_type": "execute_result"
    }
   ],
   "source": [
    "pd.Timestamp(dt)"
   ]
  },
  {
   "cell_type": "code",
   "execution_count": 84,
   "id": "3309fd24-11aa-44a3-95f8-85d298e43300",
   "metadata": {},
   "outputs": [
    {
     "data": {
      "text/plain": [
       "Timestamp('2025-01-22 23:30:03.029561+0000', tz='UTC')"
      ]
     },
     "execution_count": 84,
     "metadata": {},
     "output_type": "execute_result"
    }
   ],
   "source": [
    "pd.to_datetime(dt)"
   ]
  },
  {
   "cell_type": "markdown",
   "id": "03a27cd6-b38d-4dd9-ac6e-473be6b82c3d",
   "metadata": {},
   "source": [
    "### Let's get started with basics pandas DF"
   ]
  },
  {
   "cell_type": "code",
   "execution_count": 195,
   "id": "f70f79a8-e97f-47d6-9c70-e04779a26a05",
   "metadata": {},
   "outputs": [
    {
     "name": "stderr",
     "output_type": "stream",
     "text": [
      "[*********************100%***********************]  1 of 1 completed\n"
     ]
    }
   ],
   "source": [
    "df = get_prices()\n",
    "df[\"dt_aware\"] = datetime.now(pytz.utc)\n",
    "df[\"dt_naive\"] = datetime.now()"
   ]
  },
  {
   "cell_type": "code",
   "execution_count": 197,
   "id": "ac37f797-84d6-492c-bdcf-3f86fbcd7255",
   "metadata": {},
   "outputs": [
    {
     "data": {
      "text/plain": [
       "date             datetime64[ns]\n",
       "ticker                   object\n",
       "close                   float64\n",
       "high                    float64\n",
       "low                     float64\n",
       "open                    float64\n",
       "volume                    int64\n",
       "dt_aware    datetime64[us, UTC]\n",
       "dt_naive         datetime64[us]\n",
       "dtype: object"
      ]
     },
     "execution_count": 197,
     "metadata": {},
     "output_type": "execute_result"
    }
   ],
   "source": [
    "df.dtypes"
   ]
  },
  {
   "cell_type": "code",
   "execution_count": 209,
   "id": "77df97ac-9c34-469d-9d27-7d271c3af0d7",
   "metadata": {},
   "outputs": [
    {
     "data": {
      "text/html": [
       "<div>\n",
       "<style scoped>\n",
       "    .dataframe tbody tr th:only-of-type {\n",
       "        vertical-align: middle;\n",
       "    }\n",
       "\n",
       "    .dataframe tbody tr th {\n",
       "        vertical-align: top;\n",
       "    }\n",
       "\n",
       "    .dataframe thead th {\n",
       "        text-align: right;\n",
       "    }\n",
       "</style>\n",
       "<table border=\"1\" class=\"dataframe\">\n",
       "  <thead>\n",
       "    <tr style=\"text-align: right;\">\n",
       "      <th></th>\n",
       "      <th>date</th>\n",
       "      <th>ticker</th>\n",
       "      <th>close</th>\n",
       "      <th>high</th>\n",
       "      <th>low</th>\n",
       "      <th>open</th>\n",
       "      <th>volume</th>\n",
       "      <th>dt_aware</th>\n",
       "      <th>dt_naive</th>\n",
       "    </tr>\n",
       "  </thead>\n",
       "  <tbody>\n",
       "    <tr>\n",
       "      <th>0</th>\n",
       "      <td>2025-01-02</td>\n",
       "      <td>AAPL</td>\n",
       "      <td>243.850006</td>\n",
       "      <td>249.100006</td>\n",
       "      <td>241.820007</td>\n",
       "      <td>248.929993</td>\n",
       "      <td>55740700</td>\n",
       "      <td>2025-01-23 00:02:40.462365+00:00</td>\n",
       "      <td>2025-01-23 00:02:40.462847</td>\n",
       "    </tr>\n",
       "    <tr>\n",
       "      <th>1</th>\n",
       "      <td>2025-01-03</td>\n",
       "      <td>AAPL</td>\n",
       "      <td>243.360001</td>\n",
       "      <td>244.179993</td>\n",
       "      <td>241.889999</td>\n",
       "      <td>243.360001</td>\n",
       "      <td>40244100</td>\n",
       "      <td>2025-01-23 00:02:40.462365+00:00</td>\n",
       "      <td>2025-01-23 00:02:40.462847</td>\n",
       "    </tr>\n",
       "  </tbody>\n",
       "</table>\n",
       "</div>"
      ],
      "text/plain": [
       "        date ticker       close        high         low        open    volume  \\\n",
       "0 2025-01-02   AAPL  243.850006  249.100006  241.820007  248.929993  55740700   \n",
       "1 2025-01-03   AAPL  243.360001  244.179993  241.889999  243.360001  40244100   \n",
       "\n",
       "                          dt_aware                   dt_naive  \n",
       "0 2025-01-23 00:02:40.462365+00:00 2025-01-23 00:02:40.462847  \n",
       "1 2025-01-23 00:02:40.462365+00:00 2025-01-23 00:02:40.462847  "
      ]
     },
     "execution_count": 209,
     "metadata": {},
     "output_type": "execute_result"
    }
   ],
   "source": [
    "df.head()"
   ]
  },
  {
   "cell_type": "code",
   "execution_count": 177,
   "id": "59daf8f4-84c1-482f-9d28-53ddda09d5f7",
   "metadata": {},
   "outputs": [],
   "source": [
    "def get_prices():\n",
    "    tickers = ['AAPL']\n",
    "    data = yf.download(tickers, start='2025-01-01', end='2025-01-05')\n",
    "    \n",
    "    df = data.stack(future_stack=True).reset_index()\n",
    "    df.columns = [i for i in df.columns.values]\n",
    "    df.columns = [col.lower() for col in df.columns]\n",
    "    return df"
   ]
  },
  {
   "cell_type": "code",
   "execution_count": 189,
   "id": "4a832118-759c-4c17-9110-cdd0970f88dc",
   "metadata": {},
   "outputs": [],
   "source": [
    "delta_directory = os.path.join(\"tmp\", \"timezone\", \"price\")"
   ]
  },
  {
   "cell_type": "code",
   "execution_count": 200,
   "id": "3e0e33b2-2669-4a16-8122-2c7cfd49a96d",
   "metadata": {},
   "outputs": [
    {
     "name": "stderr",
     "output_type": "stream",
     "text": [
      "[*********************100%***********************]  1 of 1 completed\n",
      "[*********************100%***********************]  1 of 1 completed\n",
      "[*********************100%***********************]  1 of 1 completed\n",
      "[*********************100%***********************]  1 of 1 completed\n"
     ]
    }
   ],
   "source": [
    "import time\n",
    "\n",
    "executions = [1, 2, 3, 4]\n",
    "\n",
    "for exeuctions in executions:\n",
    "    df = get_prices()\n",
    "    df[\"dt_aware\"] = datetime.now(pytz.utc)\n",
    "    df[\"dt_naive\"] = datetime.now()\n",
    "    \n",
    "    write_deltalake(\n",
    "        table_or_uri=delta_directory,\n",
    "        data=df,\n",
    "        mode=\"append\",\n",
    "        engine=\"rust\",\n",
    "        )\n",
    "    time.sleep(30)"
   ]
  },
  {
   "cell_type": "code",
   "execution_count": 203,
   "id": "1ea7889c-b09b-499f-837b-f4d3e53b0b62",
   "metadata": {},
   "outputs": [],
   "source": [
    "dl = DeltaTable(delta_directory)"
   ]
  },
  {
   "cell_type": "markdown",
   "id": "8e55b4d4-73f7-442c-b4eb-dad3f5151d93",
   "metadata": {},
   "source": [
    "### Let's try filtering on the date column"
   ]
  },
  {
   "cell_type": "code",
   "execution_count": 219,
   "id": "adfe6166-e868-4689-89bf-21a103ec7528",
   "metadata": {},
   "outputs": [
    {
     "name": "stdout",
     "output_type": "stream",
     "text": [
      "Function 'equal' has no kernel matching input types (timestamp[us], string)\n"
     ]
    }
   ],
   "source": [
    "#string filters\n",
    "try:\n",
    "    filters = [(\"date\", \"==\", \"2025-01-02\")]\n",
    "    df_filtered = dl.to_pandas(filters=filters)\n",
    "except Exception as e:\n",
    "    print(e)"
   ]
  },
  {
   "cell_type": "code",
   "execution_count": 229,
   "id": "6e7bfad3-8a24-48f0-b22f-d1a7ecedbaab",
   "metadata": {},
   "outputs": [
    {
     "data": {
      "text/html": [
       "<div>\n",
       "<style scoped>\n",
       "    .dataframe tbody tr th:only-of-type {\n",
       "        vertical-align: middle;\n",
       "    }\n",
       "\n",
       "    .dataframe tbody tr th {\n",
       "        vertical-align: top;\n",
       "    }\n",
       "\n",
       "    .dataframe thead th {\n",
       "        text-align: right;\n",
       "    }\n",
       "</style>\n",
       "<table border=\"1\" class=\"dataframe\">\n",
       "  <thead>\n",
       "    <tr style=\"text-align: right;\">\n",
       "      <th></th>\n",
       "      <th>date</th>\n",
       "      <th>ticker</th>\n",
       "      <th>close</th>\n",
       "      <th>high</th>\n",
       "      <th>low</th>\n",
       "      <th>open</th>\n",
       "      <th>volume</th>\n",
       "      <th>dt_aware</th>\n",
       "      <th>dt_naive</th>\n",
       "    </tr>\n",
       "  </thead>\n",
       "  <tbody>\n",
       "    <tr>\n",
       "      <th>0</th>\n",
       "      <td>2025-01-02</td>\n",
       "      <td>AAPL</td>\n",
       "      <td>243.850006</td>\n",
       "      <td>249.100006</td>\n",
       "      <td>241.820007</td>\n",
       "      <td>248.929993</td>\n",
       "      <td>55740700</td>\n",
       "      <td>2025-01-23 00:02:40.462365+00:00</td>\n",
       "      <td>2025-01-23 00:02:40.462847</td>\n",
       "    </tr>\n",
       "    <tr>\n",
       "      <th>1</th>\n",
       "      <td>2025-01-02</td>\n",
       "      <td>AAPL</td>\n",
       "      <td>243.850006</td>\n",
       "      <td>249.100006</td>\n",
       "      <td>241.820007</td>\n",
       "      <td>248.929993</td>\n",
       "      <td>55740700</td>\n",
       "      <td>2025-01-23 00:02:10.380959+00:00</td>\n",
       "      <td>2025-01-23 00:02:10.381454</td>\n",
       "    </tr>\n",
       "    <tr>\n",
       "      <th>2</th>\n",
       "      <td>2025-01-02</td>\n",
       "      <td>AAPL</td>\n",
       "      <td>243.850006</td>\n",
       "      <td>249.100006</td>\n",
       "      <td>241.820007</td>\n",
       "      <td>248.929993</td>\n",
       "      <td>55740700</td>\n",
       "      <td>2025-01-23 00:01:40.310864+00:00</td>\n",
       "      <td>2025-01-23 00:01:40.311290</td>\n",
       "    </tr>\n",
       "    <tr>\n",
       "      <th>3</th>\n",
       "      <td>2025-01-02</td>\n",
       "      <td>AAPL</td>\n",
       "      <td>243.850006</td>\n",
       "      <td>249.100006</td>\n",
       "      <td>241.820007</td>\n",
       "      <td>248.929993</td>\n",
       "      <td>55740700</td>\n",
       "      <td>2025-01-23 00:01:10.242190+00:00</td>\n",
       "      <td>2025-01-23 00:01:10.242633</td>\n",
       "    </tr>\n",
       "  </tbody>\n",
       "</table>\n",
       "</div>"
      ],
      "text/plain": [
       "        date ticker       close        high         low        open    volume  \\\n",
       "0 2025-01-02   AAPL  243.850006  249.100006  241.820007  248.929993  55740700   \n",
       "1 2025-01-02   AAPL  243.850006  249.100006  241.820007  248.929993  55740700   \n",
       "2 2025-01-02   AAPL  243.850006  249.100006  241.820007  248.929993  55740700   \n",
       "3 2025-01-02   AAPL  243.850006  249.100006  241.820007  248.929993  55740700   \n",
       "\n",
       "                          dt_aware                   dt_naive  \n",
       "0 2025-01-23 00:02:40.462365+00:00 2025-01-23 00:02:40.462847  \n",
       "1 2025-01-23 00:02:10.380959+00:00 2025-01-23 00:02:10.381454  \n",
       "2 2025-01-23 00:01:40.310864+00:00 2025-01-23 00:01:40.311290  \n",
       "3 2025-01-23 00:01:10.242190+00:00 2025-01-23 00:01:10.242633  "
      ]
     },
     "execution_count": 229,
     "metadata": {},
     "output_type": "execute_result"
    }
   ],
   "source": [
    "# Timestamps filters\n",
    "try:\n",
    "    filters = [(\"date\", \"==\", pd.Timestamp(\"2025-01-02\"))]\n",
    "    df_filtered = dl.to_pandas(filters=filters)\n",
    "except Exception as e:\n",
    "    print(e)\n",
    "\n",
    "df_filtered"
   ]
  },
  {
   "cell_type": "code",
   "execution_count": 245,
   "id": "e9ab615a-dfd1-4591-b611-9868ab7bfdf3",
   "metadata": {},
   "outputs": [
    {
     "data": {
      "text/html": [
       "<div>\n",
       "<style scoped>\n",
       "    .dataframe tbody tr th:only-of-type {\n",
       "        vertical-align: middle;\n",
       "    }\n",
       "\n",
       "    .dataframe tbody tr th {\n",
       "        vertical-align: top;\n",
       "    }\n",
       "\n",
       "    .dataframe thead th {\n",
       "        text-align: right;\n",
       "    }\n",
       "</style>\n",
       "<table border=\"1\" class=\"dataframe\">\n",
       "  <thead>\n",
       "    <tr style=\"text-align: right;\">\n",
       "      <th></th>\n",
       "      <th>date</th>\n",
       "      <th>ticker</th>\n",
       "      <th>close</th>\n",
       "      <th>high</th>\n",
       "      <th>low</th>\n",
       "      <th>open</th>\n",
       "      <th>volume</th>\n",
       "      <th>dt_aware</th>\n",
       "      <th>dt_naive</th>\n",
       "    </tr>\n",
       "  </thead>\n",
       "  <tbody>\n",
       "    <tr>\n",
       "      <th>0</th>\n",
       "      <td>2025-01-02</td>\n",
       "      <td>AAPL</td>\n",
       "      <td>243.850006</td>\n",
       "      <td>249.100006</td>\n",
       "      <td>241.820007</td>\n",
       "      <td>248.929993</td>\n",
       "      <td>55740700</td>\n",
       "      <td>2025-01-23 00:02:40.462365+00:00</td>\n",
       "      <td>2025-01-23 00:02:40.462847</td>\n",
       "    </tr>\n",
       "    <tr>\n",
       "      <th>1</th>\n",
       "      <td>2025-01-02</td>\n",
       "      <td>AAPL</td>\n",
       "      <td>243.850006</td>\n",
       "      <td>249.100006</td>\n",
       "      <td>241.820007</td>\n",
       "      <td>248.929993</td>\n",
       "      <td>55740700</td>\n",
       "      <td>2025-01-23 00:02:10.380959+00:00</td>\n",
       "      <td>2025-01-23 00:02:10.381454</td>\n",
       "    </tr>\n",
       "    <tr>\n",
       "      <th>2</th>\n",
       "      <td>2025-01-02</td>\n",
       "      <td>AAPL</td>\n",
       "      <td>243.850006</td>\n",
       "      <td>249.100006</td>\n",
       "      <td>241.820007</td>\n",
       "      <td>248.929993</td>\n",
       "      <td>55740700</td>\n",
       "      <td>2025-01-23 00:01:40.310864+00:00</td>\n",
       "      <td>2025-01-23 00:01:40.311290</td>\n",
       "    </tr>\n",
       "    <tr>\n",
       "      <th>3</th>\n",
       "      <td>2025-01-02</td>\n",
       "      <td>AAPL</td>\n",
       "      <td>243.850006</td>\n",
       "      <td>249.100006</td>\n",
       "      <td>241.820007</td>\n",
       "      <td>248.929993</td>\n",
       "      <td>55740700</td>\n",
       "      <td>2025-01-23 00:01:10.242190+00:00</td>\n",
       "      <td>2025-01-23 00:01:10.242633</td>\n",
       "    </tr>\n",
       "  </tbody>\n",
       "</table>\n",
       "</div>"
      ],
      "text/plain": [
       "        date ticker       close        high         low        open    volume  \\\n",
       "0 2025-01-02   AAPL  243.850006  249.100006  241.820007  248.929993  55740700   \n",
       "1 2025-01-02   AAPL  243.850006  249.100006  241.820007  248.929993  55740700   \n",
       "2 2025-01-02   AAPL  243.850006  249.100006  241.820007  248.929993  55740700   \n",
       "3 2025-01-02   AAPL  243.850006  249.100006  241.820007  248.929993  55740700   \n",
       "\n",
       "                          dt_aware                   dt_naive  \n",
       "0 2025-01-23 00:02:40.462365+00:00 2025-01-23 00:02:40.462847  \n",
       "1 2025-01-23 00:02:10.380959+00:00 2025-01-23 00:02:10.381454  \n",
       "2 2025-01-23 00:01:40.310864+00:00 2025-01-23 00:01:40.311290  \n",
       "3 2025-01-23 00:01:10.242190+00:00 2025-01-23 00:01:10.242633  "
      ]
     },
     "execution_count": 245,
     "metadata": {},
     "output_type": "execute_result"
    }
   ],
   "source": [
    "# Python datetime filters\n",
    "try:\n",
    "    filters = [(\"date\", \"==\", datetime.strptime(\"2025-01-02\", \"%Y-%m-%d\"))]\n",
    "    df_filtered = dl.to_pandas(filters=filters)\n",
    "except Exception as e:\n",
    "    print(e)\n",
    "    \n",
    "df_filtered"
   ]
  },
  {
   "cell_type": "markdown",
   "id": "c64ae185-a202-4cfe-acc7-656e206c66f7",
   "metadata": {},
   "source": [
    "## let's try to filter on the dt_aware column"
   ]
  },
  {
   "cell_type": "code",
   "execution_count": 251,
   "id": "25fb9544-257e-4b18-8101-e246f7a2dcd8",
   "metadata": {},
   "outputs": [
    {
     "name": "stdout",
     "output_type": "stream",
     "text": [
      "Function 'equal' has no kernel matching input types (timestamp[us], string)\n"
     ]
    }
   ],
   "source": [
    "# exact time to filter: 2025-01-23 00:02:40.462365+00:00\n",
    "date_str = \"2025-01-23 00:02:40.462365+00:00\"\n",
    "try:\n",
    "    filters = [(\"date\", \"==\", date_str)]\n",
    "    df_filtered = dl.to_pandas(filters=filters)\n",
    "except Exception as e:\n",
    "    print(e)"
   ]
  },
  {
   "cell_type": "code",
   "execution_count": 259,
   "id": "94016ca3-0f27-4e7a-97be-142749d8e51f",
   "metadata": {},
   "outputs": [
    {
     "data": {
      "text/html": [
       "<div>\n",
       "<style scoped>\n",
       "    .dataframe tbody tr th:only-of-type {\n",
       "        vertical-align: middle;\n",
       "    }\n",
       "\n",
       "    .dataframe tbody tr th {\n",
       "        vertical-align: top;\n",
       "    }\n",
       "\n",
       "    .dataframe thead th {\n",
       "        text-align: right;\n",
       "    }\n",
       "</style>\n",
       "<table border=\"1\" class=\"dataframe\">\n",
       "  <thead>\n",
       "    <tr style=\"text-align: right;\">\n",
       "      <th></th>\n",
       "      <th>date</th>\n",
       "      <th>ticker</th>\n",
       "      <th>close</th>\n",
       "      <th>high</th>\n",
       "      <th>low</th>\n",
       "      <th>open</th>\n",
       "      <th>volume</th>\n",
       "      <th>dt_aware</th>\n",
       "      <th>dt_naive</th>\n",
       "    </tr>\n",
       "  </thead>\n",
       "  <tbody>\n",
       "    <tr>\n",
       "      <th>0</th>\n",
       "      <td>2025-01-02</td>\n",
       "      <td>AAPL</td>\n",
       "      <td>243.850006</td>\n",
       "      <td>249.100006</td>\n",
       "      <td>241.820007</td>\n",
       "      <td>248.929993</td>\n",
       "      <td>55740700</td>\n",
       "      <td>2025-01-23 00:02:40.462365+00:00</td>\n",
       "      <td>2025-01-23 00:02:40.462847</td>\n",
       "    </tr>\n",
       "    <tr>\n",
       "      <th>1</th>\n",
       "      <td>2025-01-03</td>\n",
       "      <td>AAPL</td>\n",
       "      <td>243.360001</td>\n",
       "      <td>244.179993</td>\n",
       "      <td>241.889999</td>\n",
       "      <td>243.360001</td>\n",
       "      <td>40244100</td>\n",
       "      <td>2025-01-23 00:02:40.462365+00:00</td>\n",
       "      <td>2025-01-23 00:02:40.462847</td>\n",
       "    </tr>\n",
       "  </tbody>\n",
       "</table>\n",
       "</div>"
      ],
      "text/plain": [
       "        date ticker       close        high         low        open    volume  \\\n",
       "0 2025-01-02   AAPL  243.850006  249.100006  241.820007  248.929993  55740700   \n",
       "1 2025-01-03   AAPL  243.360001  244.179993  241.889999  243.360001  40244100   \n",
       "\n",
       "                          dt_aware                   dt_naive  \n",
       "0 2025-01-23 00:02:40.462365+00:00 2025-01-23 00:02:40.462847  \n",
       "1 2025-01-23 00:02:40.462365+00:00 2025-01-23 00:02:40.462847  "
      ]
     },
     "execution_count": 259,
     "metadata": {},
     "output_type": "execute_result"
    }
   ],
   "source": [
    "try:\n",
    "    filters = [(\"dt_aware\", \"==\", pd.Timestamp(date_str))]\n",
    "    df_filtered = dl.to_pandas(filters=filters)\n",
    "except Exception as e:\n",
    "    print(e)\n",
    "df_filtered"
   ]
  },
  {
   "cell_type": "code",
   "execution_count": 263,
   "id": "984275d2-b633-4065-a45e-78bf013e7756",
   "metadata": {},
   "outputs": [
    {
     "name": "stdout",
     "output_type": "stream",
     "text": [
      "Cannot compare timestamp with timezone to timestamp without timezone, got: timestamp[us, tz=UTC] and timestamp[us]\n"
     ]
    }
   ],
   "source": [
    "try:\n",
    "    filters = [(\"dt_naive\", \"==\", pd.Timestamp(date_str))]\n",
    "    df_filtered = dl.to_pandas(filters=filters)\n",
    "except Exception as e:\n",
    "    print(e)"
   ]
  },
  {
   "cell_type": "markdown",
   "id": "f3edb18f-534a-498a-9e51-7bd216156460",
   "metadata": {},
   "source": [
    "## The deltalake schema and the data type in the filters are crutial to filter the data appropraitely\n",
    "\n",
    "### What if I don't remember the schema?"
   ]
  },
  {
   "cell_type": "code",
   "execution_count": 347,
   "id": "3af12791-398f-426b-aae1-4e8c4e2959ea",
   "metadata": {},
   "outputs": [],
   "source": [
    "df = dl.to_pandas()"
   ]
  },
  {
   "cell_type": "code",
   "execution_count": 337,
   "id": "b4a0b187-732a-4e4d-a0f1-2dd6d2c67751",
   "metadata": {},
   "outputs": [
    {
     "name": "stdout",
     "output_type": "stream",
     "text": [
      "------- date -------\n",
      "This is any datetime64\n",
      "This is a naive datetime64\n",
      "------- dt_aware -------\n",
      "This is any datetime64\n",
      "This is a datetime64 timezone aware\n",
      "------- dt_naive -------\n",
      "This is any datetime64\n",
      "This is a naive datetime64\n"
     ]
    },
    {
     "name": "stderr",
     "output_type": "stream",
     "text": [
      "/tmp/ipykernel_228/2765821492.py:9: DeprecationWarning: is_datetime64tz_dtype is deprecated and will be removed in a future version. Check `isinstance(dtype, pd.DatetimeTZDtype)` instead.\n",
      "  if pd.api.types.is_datetime64tz_dtype(df[dt_column]):\n"
     ]
    }
   ],
   "source": [
    "for dt_column in [\"date\", \"dt_aware\", \"dt_naive\"]:\n",
    "    print(f\"------- {dt_column} -------\")\n",
    "    if pd.api.types.is_datetime64_any_dtype(df[dt_column]):\n",
    "        print(\"This is any datetime64\")\n",
    "        \n",
    "    if pd.api.types.is_datetime64_dtype(df[dt_column]):\n",
    "        print(\"This is a naive datetime64\")\n",
    "        \n",
    "    if pd.api.types.is_datetime64tz_dtype(df[dt_column]):\n",
    "        print(\"This is a datetime64 timezone aware\")        \n"
   ]
  },
  {
   "cell_type": "code",
   "execution_count": 339,
   "id": "be20ab3c-18b8-47cd-898f-814c36256141",
   "metadata": {},
   "outputs": [
    {
     "name": "stdout",
     "output_type": "stream",
     "text": [
      "------- date -------\n",
      "This is a naive datetime64\n",
      "------- dt_aware -------\n",
      "This is a datetime64 timezone aware\n",
      "------- dt_naive -------\n",
      "This is a naive datetime64\n"
     ]
    },
    {
     "name": "stderr",
     "output_type": "stream",
     "text": [
      "/tmp/ipykernel_228/2319325825.py:6: DeprecationWarning: is_datetime64tz_dtype is deprecated and will be removed in a future version. Check `isinstance(dtype, pd.DatetimeTZDtype)` instead.\n",
      "  if pd.api.types.is_datetime64tz_dtype(df[dt_column]):\n"
     ]
    }
   ],
   "source": [
    "for dt_column in [\"date\", \"dt_aware\", \"dt_naive\"]:\n",
    "    print(f\"------- {dt_column} -------\")        \n",
    "    if pd.api.types.is_datetime64_dtype(df[dt_column]):\n",
    "        print(\"This is a naive datetime64\")\n",
    "        \n",
    "    if pd.api.types.is_datetime64tz_dtype(df[dt_column]):\n",
    "        print(\"This is a datetime64 timezone aware\")"
   ]
  },
  {
   "cell_type": "code",
   "execution_count": 341,
   "id": "5d3de5b4-53aa-4bcd-881a-348bbfc6eac7",
   "metadata": {},
   "outputs": [],
   "source": [
    "col_name = \"dt_aware\"\n",
    "date_str = \"2025-01-23 00:02:40.462365+00:00\""
   ]
  },
  {
   "cell_type": "code",
   "execution_count": 361,
   "id": "39c29fac-5b9a-43f3-acf6-c969fb68d29c",
   "metadata": {},
   "outputs": [
    {
     "name": "stdout",
     "output_type": "stream",
     "text": [
      "------- date -------\n",
      "This is a naive datetime64\n",
      "Empty DataFrame\n",
      "Columns: [date, ticker, close, high, low, open, volume, dt_aware, dt_naive]\n",
      "Index: []\n",
      "------- dt_aware -------\n",
      "This is a datetime64 timezone aware\n",
      "        date ticker       close        high         low        open    volume  \\\n",
      "0 2025-01-02   AAPL  243.850006  249.100006  241.820007  248.929993  55740700   \n",
      "1 2025-01-03   AAPL  243.360001  244.179993  241.889999  243.360001  40244100   \n",
      "\n",
      "                          dt_aware                   dt_naive  \n",
      "0 2025-01-23 00:02:40.462365+00:00 2025-01-23 00:02:40.462847  \n",
      "1 2025-01-23 00:02:40.462365+00:00 2025-01-23 00:02:40.462847  \n",
      "------- dt_naive -------\n",
      "This is a naive datetime64\n",
      "Empty DataFrame\n",
      "Columns: [date, ticker, close, high, low, open, volume, dt_aware, dt_naive]\n",
      "Index: []\n"
     ]
    },
    {
     "name": "stderr",
     "output_type": "stream",
     "text": [
      "/tmp/ipykernel_228/759496241.py:9: DeprecationWarning: is_datetime64tz_dtype is deprecated and will be removed in a future version. Check `isinstance(dtype, pd.DatetimeTZDtype)` instead.\n",
      "  elif pd.api.types.is_datetime64tz_dtype(df[dt_column]):\n"
     ]
    }
   ],
   "source": [
    "for dt_column in [\"date\", \"dt_aware\", \"dt_naive\"]:\n",
    "    \n",
    "    print(f\"------- {dt_column} -------\")\n",
    "    \n",
    "    if pd.api.types.is_datetime64_dtype(df[dt_column]):\n",
    "        print(\"This is a naive datetime64\")\n",
    "        filter_value = pd.Timestamp(date_str).tz_localize(None)\n",
    "        \n",
    "    elif pd.api.types.is_datetime64tz_dtype(df[dt_column]):\n",
    "        print(\"This is a datetime64 timezone aware\")\n",
    "        filter_value = pd.Timestamp(date_str)\n",
    "    \n",
    "    else:\n",
    "        raise ValueError(\"Date time format not supported\")\n",
    "    \n",
    "    try:\n",
    "        filters = [(dt_column, \"==\", filter_value)]\n",
    "        df_filtered = dl.to_pandas(filters=filters)\n",
    "    except Exception as e:\n",
    "        print(e)\n",
    "    print(df_filtered)"
   ]
  },
  {
   "cell_type": "code",
   "execution_count": 365,
   "id": "794d77de-d10e-45f1-8064-e9ac11141299",
   "metadata": {},
   "outputs": [
    {
     "name": "stdout",
     "output_type": "stream",
     "text": [
      "------- date -------\n",
      "This is a naive datetime64\n",
      "Empty DataFrame\n",
      "Columns: [date, ticker, close, high, low, open, volume, dt_aware, dt_naive]\n",
      "Index: []\n",
      "------- dt_aware -------\n",
      "This is a datetime64 timezone aware\n",
      "        date ticker       close        high         low        open    volume  \\\n",
      "0 2025-01-02   AAPL  243.850006  249.100006  241.820007  248.929993  55740700   \n",
      "1 2025-01-03   AAPL  243.360001  244.179993  241.889999  243.360001  40244100   \n",
      "\n",
      "                          dt_aware                   dt_naive  \n",
      "0 2025-01-23 00:02:40.462365+00:00 2025-01-23 00:02:40.462847  \n",
      "1 2025-01-23 00:02:40.462365+00:00 2025-01-23 00:02:40.462847  \n",
      "------- dt_naive -------\n",
      "This is a naive datetime64\n",
      "        date ticker       close        high         low        open    volume  \\\n",
      "0 2025-01-02   AAPL  243.850006  249.100006  241.820007  248.929993  55740700   \n",
      "1 2025-01-03   AAPL  243.360001  244.179993  241.889999  243.360001  40244100   \n",
      "\n",
      "                          dt_aware                   dt_naive  \n",
      "0 2025-01-23 00:02:40.462365+00:00 2025-01-23 00:02:40.462847  \n",
      "1 2025-01-23 00:02:40.462365+00:00 2025-01-23 00:02:40.462847  \n"
     ]
    },
    {
     "name": "stderr",
     "output_type": "stream",
     "text": [
      "/tmp/ipykernel_228/4113418037.py:9: DeprecationWarning: is_datetime64tz_dtype is deprecated and will be removed in a future version. Check `isinstance(dtype, pd.DatetimeTZDtype)` instead.\n",
      "  elif pd.api.types.is_datetime64tz_dtype(df[dt_column]):\n"
     ]
    }
   ],
   "source": [
    "for dt_column in [\"date\", \"dt_aware\", \"dt_naive\"]:\n",
    "    \n",
    "    print(f\"------- {dt_column} -------\")\n",
    "    \n",
    "    if pd.api.types.is_datetime64_dtype(df[dt_column]):\n",
    "        print(\"This is a naive datetime64\")\n",
    "        filter_value = pd.Timestamp(date_str).tz_localize(None)\n",
    "        \n",
    "    elif pd.api.types.is_datetime64tz_dtype(df[dt_column]):\n",
    "        print(\"This is a datetime64 timezone aware\")\n",
    "        filter_value = pd.Timestamp(date_str)\n",
    "    \n",
    "    else:\n",
    "        raise ValueError(\"Date time format not supported\")\n",
    "    \n",
    "    try:\n",
    "        filters = [(dt_column, \">=\", filter_value)]\n",
    "        df_filtered = dl.to_pandas(filters=filters)\n",
    "    except Exception as e:\n",
    "        print(e)\n",
    "    print(df_filtered)"
   ]
  },
  {
   "cell_type": "code",
   "execution_count": null,
   "id": "dd57b85f-35c0-40c7-a504-0618645cb84c",
   "metadata": {},
   "outputs": [],
   "source": []
  },
  {
   "cell_type": "code",
   "execution_count": null,
   "id": "46a1e43c-54fc-401c-8dfe-81a61edc0758",
   "metadata": {},
   "outputs": [],
   "source": []
  },
  {
   "cell_type": "code",
   "execution_count": null,
   "id": "bb77ebd1-bd8b-41de-834c-8f57ac72ce9f",
   "metadata": {},
   "outputs": [],
   "source": []
  }
 ],
 "metadata": {
  "kernelspec": {
   "display_name": ".conda-deltalake-env",
   "language": "python",
   "name": "conda-env-.conda-deltalake-env-py"
  },
  "language_info": {
   "codemirror_mode": {
    "name": "ipython",
    "version": 3
   },
   "file_extension": ".py",
   "mimetype": "text/x-python",
   "name": "python",
   "nbconvert_exporter": "python",
   "pygments_lexer": "ipython3",
   "version": "3.11.11"
  }
 },
 "nbformat": 4,
 "nbformat_minor": 5
}
